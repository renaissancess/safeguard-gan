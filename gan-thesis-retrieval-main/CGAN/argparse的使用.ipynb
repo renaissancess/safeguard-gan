{
 "cells": [
  {
   "cell_type": "markdown",
   "id": "30dccd74",
   "metadata": {},
   "source": [
    " argument  就是参数\n",
    " \n",
    "比如我执行test.py这个文件，之后带了两个参数  python test.py 6 5 \n",
    "\n",
    "想要求这两个参数的乘积，需要获取这两个参数，\n"
   ]
  },
  {
   "cell_type": "code",
   "execution_count": 7,
   "id": "a530e5b2",
   "metadata": {},
   "outputs": [
    {
     "name": "stdout",
     "output_type": "stream",
     "text": [
      "['D:\\\\ana\\\\lib\\\\site-packages\\\\ipykernel_launcher.py', '-f', 'C:\\\\Users\\\\hp\\\\AppData\\\\Roaming\\\\jupyter\\\\runtime\\\\kernel-e8a0c06a-a902-4a4d-9c48-128b2b7683ba.json']\n"
     ]
    }
   ],
   "source": [
    "# 读取命令行中传递进来的参数\n",
    "\n",
    "import sys\n",
    "\n",
    "# 命令行的格式: 代码脚本的路径名称  传入的参数\n",
    "\n",
    "print(sys.argv)\n",
    "\n",
    "# sys.argv[0] \n",
    "\n",
    "#如果只是对命令行参数进行简单的运算和操作，那么sys就已足够\n",
    "\n",
    "#在复杂要求的情况下，我们需要其他的库来帮助我们实现\n",
    "\n"
   ]
  },
  {
   "cell_type": "code",
   "execution_count": 3,
   "id": "177c7964",
   "metadata": {},
   "outputs": [],
   "source": [
    "import argparse\n",
    "\n",
    "## 网址 https://blog.csdn.net/RudeTomatoes/article/details/117003291"
   ]
  },
  {
   "cell_type": "code",
   "execution_count": null,
   "id": "655a73f6",
   "metadata": {},
   "outputs": [],
   "source": []
  },
  {
   "cell_type": "code",
   "execution_count": null,
   "id": "9cd7b923",
   "metadata": {},
   "outputs": [],
   "source": []
  },
  {
   "cell_type": "code",
   "execution_count": 4,
   "id": "3ab58b37",
   "metadata": {},
   "outputs": [
    {
     "data": {
      "text/plain": [
       "_StoreAction(option_strings=[], dest='length', nargs=None, const=None, default=None, type=<class 'int'>, choices=None, help='length of a square', metavar=None)"
      ]
     },
     "execution_count": 4,
     "metadata": {},
     "output_type": "execute_result"
    }
   ],
   "source": [
    "#创建解释器对象， 描述信息\n",
    "parser=argparse.ArgumentParser(description='calculate the volume of a square')\n",
    "\n",
    "#添加需要输入的命令行参数\n",
    "# 参数名，参数类型，描述信息, \n",
    "\n",
    "\n",
    "parser.add_argument('length',type=int,help='length of a square') #添加的是positional位置参数，必须赋值\n",
    "parser.add_argument('--a',type=int，default=5 ,help='operator A')   # --两个杠后添加的是optional类型的参数， 可选的就是不一定需要填写\n",
    "#default设置默认值\n",
    "parser.add_argument('--verbose',action='store_true',help='Print message')   #添加action参数，类似flags标记， 出现参数就代表执行\n",
    "\n",
    "args=parser.parse_args()  #解析命令行，获得输入参数的值(一个命名空间)\n",
    "\n",
    "# args.length 获得了参数的值   args.a"
   ]
  },
  {
   "cell_type": "code",
   "execution_count": 6,
   "id": "bf8c4560",
   "metadata": {},
   "outputs": [
    {
     "ename": "SyntaxError",
     "evalue": "invalid syntax (Temp/ipykernel_18536/3006713744.py, line 1)",
     "output_type": "error",
     "traceback": [
      "\u001b[1;36m  File \u001b[1;32m\"C:\\Users\\hp\\AppData\\Local\\Temp/ipykernel_18536/3006713744.py\"\u001b[1;36m, line \u001b[1;32m1\u001b[0m\n\u001b[1;33m    python test_argparse.py -h\u001b[0m\n\u001b[1;37m           ^\u001b[0m\n\u001b[1;31mSyntaxError\u001b[0m\u001b[1;31m:\u001b[0m invalid syntax\n"
     ]
    }
   ],
   "source": []
  },
  {
   "cell_type": "code",
   "execution_count": null,
   "id": "1ff030e7",
   "metadata": {},
   "outputs": [],
   "source": []
  }
 ],
 "metadata": {
  "kernelspec": {
   "display_name": "Python 3 (ipykernel)",
   "language": "python",
   "name": "python3"
  },
  "language_info": {
   "codemirror_mode": {
    "name": "ipython",
    "version": 3
   },
   "file_extension": ".py",
   "mimetype": "text/x-python",
   "name": "python",
   "nbconvert_exporter": "python",
   "pygments_lexer": "ipython3",
   "version": "3.9.7"
  },
  "latex_envs": {
   "LaTeX_envs_menu_present": true,
   "autoclose": false,
   "autocomplete": true,
   "bibliofile": "biblio.bib",
   "cite_by": "apalike",
   "current_citInitial": 1,
   "eqLabelWithNumbers": true,
   "eqNumInitial": 1,
   "hotkeys": {
    "equation": "Ctrl-E",
    "itemize": "Ctrl-I"
   },
   "labels_anchors": false,
   "latex_user_defs": false,
   "report_style_numbering": false,
   "user_envs_cfg": false
  },
  "toc": {
   "base_numbering": 1,
   "nav_menu": {},
   "number_sections": true,
   "sideBar": true,
   "skip_h1_title": false,
   "title_cell": "Table of Contents",
   "title_sidebar": "Contents",
   "toc_cell": false,
   "toc_position": {},
   "toc_section_display": true,
   "toc_window_display": false
  },
  "varInspector": {
   "cols": {
    "lenName": 16,
    "lenType": 16,
    "lenVar": 40
   },
   "kernels_config": {
    "python": {
     "delete_cmd_postfix": "",
     "delete_cmd_prefix": "del ",
     "library": "var_list.py",
     "varRefreshCmd": "print(var_dic_list())"
    },
    "r": {
     "delete_cmd_postfix": ") ",
     "delete_cmd_prefix": "rm(",
     "library": "var_list.r",
     "varRefreshCmd": "cat(var_dic_list()) "
    }
   },
   "types_to_exclude": [
    "module",
    "function",
    "builtin_function_or_method",
    "instance",
    "_Feature"
   ],
   "window_display": false
  }
 },
 "nbformat": 4,
 "nbformat_minor": 5
}
